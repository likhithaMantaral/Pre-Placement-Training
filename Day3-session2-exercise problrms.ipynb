{
  "nbformat": 4,
  "nbformat_minor": 0,
  "metadata": {
    "colab": {
      "name": "Untitled",
      "provenance": [],
      "collapsed_sections": [],
      "authorship_tag": "ABX9TyMq9XvNMw8ItJTklOBa8r2A",
      "include_colab_link": true
    },
    "kernelspec": {
      "name": "python3",
      "display_name": "Python 3"
    }
  },
  "cells": [
    {
      "cell_type": "markdown",
      "metadata": {
        "id": "view-in-github",
        "colab_type": "text"
      },
      "source": [
        "<a href=\"https://colab.research.google.com/github/likhithaMantaral/Python-in-DA_-and_-ML/blob/master/Day3-session2-exercise%20problrms.ipynb\" target=\"_parent\"><img src=\"https://colab.research.google.com/assets/colab-badge.svg\" alt=\"Open In Colab\"/></a>"
      ]
    },
    {
      "cell_type": "code",
      "metadata": {
        "id": "5lQsR85LimZa",
        "colab_type": "code",
        "colab": {}
      },
      "source": [
        ""
      ],
      "execution_count": null,
      "outputs": []
    },
    {
      "cell_type": "markdown",
      "metadata": {
        "id": "XbFDbFKbinPL",
        "colab_type": "text"
      },
      "source": [
        "Write a Pandas program to create and display a one-dimensional array using series containing even numbers upto 10000"
      ]
    },
    {
      "cell_type": "code",
      "metadata": {
        "id": "zk05iqMaiqKC",
        "colab_type": "code",
        "colab": {
          "base_uri": "https://localhost:8080/",
          "height": 225
        },
        "outputId": "accfb460-a53b-46d3-8e72-db21e1e21f78"
      },
      "source": [
        "import pandas as pd\n",
        "l=([i for i in range(0,10000) if i%2==0])\n",
        "ds = pd.Series(l) \n",
        "print(ds)"
      ],
      "execution_count": null,
      "outputs": [
        {
          "output_type": "stream",
          "text": [
            "0          0\n",
            "1          2\n",
            "2          4\n",
            "3          6\n",
            "4          8\n",
            "        ... \n",
            "4995    9990\n",
            "4996    9992\n",
            "4997    9994\n",
            "4998    9996\n",
            "4999    9998\n",
            "Length: 5000, dtype: int64\n"
          ],
          "name": "stdout"
        }
      ]
    },
    {
      "cell_type": "markdown",
      "metadata": {
        "id": "AJ9BAQESi6li",
        "colab_type": "text"
      },
      "source": [
        "Write a Pandas program to convert a Panda module Series of the numbers which are between 1000 and 2000 (both inclusive) and divisable by 5 to Python list and after convertion print its type"
      ]
    },
    {
      "cell_type": "code",
      "metadata": {
        "id": "EfWYbNYui-Nl",
        "colab_type": "code",
        "colab": {
          "base_uri": "https://localhost:8080/",
          "height": 280
        },
        "outputId": "46d52f05-1ff5-429a-ad1b-d2829bc36c22"
      },
      "source": [
        "import pandas as pd\n",
        "d = pd.Series([i for i in range(1000,2001) if i%5==0]) \n",
        "print(d)\n",
        "print(d.tolist())\n",
        "print(type(d.tolist()))"
      ],
      "execution_count": null,
      "outputs": [
        {
          "output_type": "stream",
          "text": [
            "0      1000\n",
            "1      1005\n",
            "2      1010\n",
            "3      1015\n",
            "4      1020\n",
            "       ... \n",
            "196    1980\n",
            "197    1985\n",
            "198    1990\n",
            "199    1995\n",
            "200    2000\n",
            "Length: 201, dtype: int64\n",
            "[1000, 1005, 1010, 1015, 1020, 1025, 1030, 1035, 1040, 1045, 1050, 1055, 1060, 1065, 1070, 1075, 1080, 1085, 1090, 1095, 1100, 1105, 1110, 1115, 1120, 1125, 1130, 1135, 1140, 1145, 1150, 1155, 1160, 1165, 1170, 1175, 1180, 1185, 1190, 1195, 1200, 1205, 1210, 1215, 1220, 1225, 1230, 1235, 1240, 1245, 1250, 1255, 1260, 1265, 1270, 1275, 1280, 1285, 1290, 1295, 1300, 1305, 1310, 1315, 1320, 1325, 1330, 1335, 1340, 1345, 1350, 1355, 1360, 1365, 1370, 1375, 1380, 1385, 1390, 1395, 1400, 1405, 1410, 1415, 1420, 1425, 1430, 1435, 1440, 1445, 1450, 1455, 1460, 1465, 1470, 1475, 1480, 1485, 1490, 1495, 1500, 1505, 1510, 1515, 1520, 1525, 1530, 1535, 1540, 1545, 1550, 1555, 1560, 1565, 1570, 1575, 1580, 1585, 1590, 1595, 1600, 1605, 1610, 1615, 1620, 1625, 1630, 1635, 1640, 1645, 1650, 1655, 1660, 1665, 1670, 1675, 1680, 1685, 1690, 1695, 1700, 1705, 1710, 1715, 1720, 1725, 1730, 1735, 1740, 1745, 1750, 1755, 1760, 1765, 1770, 1775, 1780, 1785, 1790, 1795, 1800, 1805, 1810, 1815, 1820, 1825, 1830, 1835, 1840, 1845, 1850, 1855, 1860, 1865, 1870, 1875, 1880, 1885, 1890, 1895, 1900, 1905, 1910, 1915, 1920, 1925, 1930, 1935, 1940, 1945, 1950, 1955, 1960, 1965, 1970, 1975, 1980, 1985, 1990, 1995, 2000]\n",
            "<class 'list'>\n"
          ],
          "name": "stdout"
        }
      ]
    },
    {
      "cell_type": "markdown",
      "metadata": {
        "id": "h8HpMPC6jMDA",
        "colab_type": "text"
      },
      "source": [
        "Write a Pandas program to add, subtract, multiple and divide two Pandas Series and print their results using the Sample Series: [2, 4, 6, 8, ...100], [1, 3, 5, 7, 9...99]"
      ]
    },
    {
      "cell_type": "code",
      "metadata": {
        "id": "1GAVwZJfjSMp",
        "colab_type": "code",
        "colab": {
          "base_uri": "https://localhost:8080/",
          "height": 1000
        },
        "outputId": "a238c52a-2e10-4d3e-a0ea-9042fb1e870b"
      },
      "source": [
        "import pandas as pd\n",
        "l1=([i for i in range(1,101) if i%2==0])\n",
        "l2=([i for i in range(1,100) if i%2==1])\n",
        "d1=pd.Series(l1)\n",
        "d2=pd.Series(l2)\n",
        "print(f'Addition Of  Two Series:\\n{d1+d2}')\n",
        "print(f'Subtraction Of  Two Series:\\n{d1-d2}')\n",
        "print(f'Multiplication Of  Two Series:\\n{d1*d2}')\n",
        "print(f'Division Of  Two Series:\\n{d1/d2}')"
      ],
      "execution_count": null,
      "outputs": [
        {
          "output_type": "stream",
          "text": [
            "Addition Of  Two Series:\n",
            "0       3\n",
            "1       7\n",
            "2      11\n",
            "3      15\n",
            "4      19\n",
            "5      23\n",
            "6      27\n",
            "7      31\n",
            "8      35\n",
            "9      39\n",
            "10     43\n",
            "11     47\n",
            "12     51\n",
            "13     55\n",
            "14     59\n",
            "15     63\n",
            "16     67\n",
            "17     71\n",
            "18     75\n",
            "19     79\n",
            "20     83\n",
            "21     87\n",
            "22     91\n",
            "23     95\n",
            "24     99\n",
            "25    103\n",
            "26    107\n",
            "27    111\n",
            "28    115\n",
            "29    119\n",
            "30    123\n",
            "31    127\n",
            "32    131\n",
            "33    135\n",
            "34    139\n",
            "35    143\n",
            "36    147\n",
            "37    151\n",
            "38    155\n",
            "39    159\n",
            "40    163\n",
            "41    167\n",
            "42    171\n",
            "43    175\n",
            "44    179\n",
            "45    183\n",
            "46    187\n",
            "47    191\n",
            "48    195\n",
            "49    199\n",
            "dtype: int64\n",
            "Subtraction Of  Two Series:\n",
            "0     1\n",
            "1     1\n",
            "2     1\n",
            "3     1\n",
            "4     1\n",
            "5     1\n",
            "6     1\n",
            "7     1\n",
            "8     1\n",
            "9     1\n",
            "10    1\n",
            "11    1\n",
            "12    1\n",
            "13    1\n",
            "14    1\n",
            "15    1\n",
            "16    1\n",
            "17    1\n",
            "18    1\n",
            "19    1\n",
            "20    1\n",
            "21    1\n",
            "22    1\n",
            "23    1\n",
            "24    1\n",
            "25    1\n",
            "26    1\n",
            "27    1\n",
            "28    1\n",
            "29    1\n",
            "30    1\n",
            "31    1\n",
            "32    1\n",
            "33    1\n",
            "34    1\n",
            "35    1\n",
            "36    1\n",
            "37    1\n",
            "38    1\n",
            "39    1\n",
            "40    1\n",
            "41    1\n",
            "42    1\n",
            "43    1\n",
            "44    1\n",
            "45    1\n",
            "46    1\n",
            "47    1\n",
            "48    1\n",
            "49    1\n",
            "dtype: int64\n",
            "Multiplication Of  Two Series:\n",
            "0        2\n",
            "1       12\n",
            "2       30\n",
            "3       56\n",
            "4       90\n",
            "5      132\n",
            "6      182\n",
            "7      240\n",
            "8      306\n",
            "9      380\n",
            "10     462\n",
            "11     552\n",
            "12     650\n",
            "13     756\n",
            "14     870\n",
            "15     992\n",
            "16    1122\n",
            "17    1260\n",
            "18    1406\n",
            "19    1560\n",
            "20    1722\n",
            "21    1892\n",
            "22    2070\n",
            "23    2256\n",
            "24    2450\n",
            "25    2652\n",
            "26    2862\n",
            "27    3080\n",
            "28    3306\n",
            "29    3540\n",
            "30    3782\n",
            "31    4032\n",
            "32    4290\n",
            "33    4556\n",
            "34    4830\n",
            "35    5112\n",
            "36    5402\n",
            "37    5700\n",
            "38    6006\n",
            "39    6320\n",
            "40    6642\n",
            "41    6972\n",
            "42    7310\n",
            "43    7656\n",
            "44    8010\n",
            "45    8372\n",
            "46    8742\n",
            "47    9120\n",
            "48    9506\n",
            "49    9900\n",
            "dtype: int64\n",
            "Division Of  Two Series:\n",
            "0     2.000000\n",
            "1     1.333333\n",
            "2     1.200000\n",
            "3     1.142857\n",
            "4     1.111111\n",
            "5     1.090909\n",
            "6     1.076923\n",
            "7     1.066667\n",
            "8     1.058824\n",
            "9     1.052632\n",
            "10    1.047619\n",
            "11    1.043478\n",
            "12    1.040000\n",
            "13    1.037037\n",
            "14    1.034483\n",
            "15    1.032258\n",
            "16    1.030303\n",
            "17    1.028571\n",
            "18    1.027027\n",
            "19    1.025641\n",
            "20    1.024390\n",
            "21    1.023256\n",
            "22    1.022222\n",
            "23    1.021277\n",
            "24    1.020408\n",
            "25    1.019608\n",
            "26    1.018868\n",
            "27    1.018182\n",
            "28    1.017544\n",
            "29    1.016949\n",
            "30    1.016393\n",
            "31    1.015873\n",
            "32    1.015385\n",
            "33    1.014925\n",
            "34    1.014493\n",
            "35    1.014085\n",
            "36    1.013699\n",
            "37    1.013333\n",
            "38    1.012987\n",
            "39    1.012658\n",
            "40    1.012346\n",
            "41    1.012048\n",
            "42    1.011765\n",
            "43    1.011494\n",
            "44    1.011236\n",
            "45    1.010989\n",
            "46    1.010753\n",
            "47    1.010526\n",
            "48    1.010309\n",
            "49    1.010101\n",
            "dtype: float64\n"
          ],
          "name": "stdout"
        }
      ]
    },
    {
      "cell_type": "markdown",
      "metadata": {
        "id": "GA92NRH8jZaJ",
        "colab_type": "text"
      },
      "source": [
        "Write a Pandas program to compare (Equivalence, greater than, less than, not equal to )the elements of the two Pandas Series.Sample Series: [All positive numbers divisable by 7 upto 1000], [All positive numbers divisable by 11 upto 1000]"
      ]
    },
    {
      "cell_type": "code",
      "metadata": {
        "id": "3vS6auuSjdcN",
        "colab_type": "code",
        "colab": {
          "base_uri": "https://localhost:8080/",
          "height": 1000
        },
        "outputId": "02a0ddf0-c32d-4611-c247-4eea5802d989"
      },
      "source": [
        "import pandas as pd\n",
        "l1=([i for i in range(1,1000) if i%7==0])\n",
        "l2=([i for i in range(1,1000) if i%11==0])\n",
        "d1 = pd.Series(l1)\n",
        "d2 = pd.Series(l2)\n",
        "print(\"Compare the elements of the said Series:\")\n",
        "print(\"Equals:\")\n",
        "for i in range (len(l2)):\n",
        "  print(i,\" \",d1[i]==d2[i])\n",
        "print(\"Greater than:\")\n",
        "for i in range(len(l2)):\n",
        "  print(i,\" \",d1[i]>d2[i])\n",
        "print(\"Less than:\")\n",
        "for i in range(len(l2)):\n",
        "  print(i,\" \",d1[i]<d2[i])"
      ],
      "execution_count": null,
      "outputs": [
        {
          "output_type": "stream",
          "text": [
            "Compare the elements of the said Series:\n",
            "Equals:\n",
            "0   False\n",
            "1   False\n",
            "2   False\n",
            "3   False\n",
            "4   False\n",
            "5   False\n",
            "6   False\n",
            "7   False\n",
            "8   False\n",
            "9   False\n",
            "10   False\n",
            "11   False\n",
            "12   False\n",
            "13   False\n",
            "14   False\n",
            "15   False\n",
            "16   False\n",
            "17   False\n",
            "18   False\n",
            "19   False\n",
            "20   False\n",
            "21   False\n",
            "22   False\n",
            "23   False\n",
            "24   False\n",
            "25   False\n",
            "26   False\n",
            "27   False\n",
            "28   False\n",
            "29   False\n",
            "30   False\n",
            "31   False\n",
            "32   False\n",
            "33   False\n",
            "34   False\n",
            "35   False\n",
            "36   False\n",
            "37   False\n",
            "38   False\n",
            "39   False\n",
            "40   False\n",
            "41   False\n",
            "42   False\n",
            "43   False\n",
            "44   False\n",
            "45   False\n",
            "46   False\n",
            "47   False\n",
            "48   False\n",
            "49   False\n",
            "50   False\n",
            "51   False\n",
            "52   False\n",
            "53   False\n",
            "54   False\n",
            "55   False\n",
            "56   False\n",
            "57   False\n",
            "58   False\n",
            "59   False\n",
            "60   False\n",
            "61   False\n",
            "62   False\n",
            "63   False\n",
            "64   False\n",
            "65   False\n",
            "66   False\n",
            "67   False\n",
            "68   False\n",
            "69   False\n",
            "70   False\n",
            "71   False\n",
            "72   False\n",
            "73   False\n",
            "74   False\n",
            "75   False\n",
            "76   False\n",
            "77   False\n",
            "78   False\n",
            "79   False\n",
            "80   False\n",
            "81   False\n",
            "82   False\n",
            "83   False\n",
            "84   False\n",
            "85   False\n",
            "86   False\n",
            "87   False\n",
            "88   False\n",
            "89   False\n",
            "Greater than:\n",
            "0   False\n",
            "1   False\n",
            "2   False\n",
            "3   False\n",
            "4   False\n",
            "5   False\n",
            "6   False\n",
            "7   False\n",
            "8   False\n",
            "9   False\n",
            "10   False\n",
            "11   False\n",
            "12   False\n",
            "13   False\n",
            "14   False\n",
            "15   False\n",
            "16   False\n",
            "17   False\n",
            "18   False\n",
            "19   False\n",
            "20   False\n",
            "21   False\n",
            "22   False\n",
            "23   False\n",
            "24   False\n",
            "25   False\n",
            "26   False\n",
            "27   False\n",
            "28   False\n",
            "29   False\n",
            "30   False\n",
            "31   False\n",
            "32   False\n",
            "33   False\n",
            "34   False\n",
            "35   False\n",
            "36   False\n",
            "37   False\n",
            "38   False\n",
            "39   False\n",
            "40   False\n",
            "41   False\n",
            "42   False\n",
            "43   False\n",
            "44   False\n",
            "45   False\n",
            "46   False\n",
            "47   False\n",
            "48   False\n",
            "49   False\n",
            "50   False\n",
            "51   False\n",
            "52   False\n",
            "53   False\n",
            "54   False\n",
            "55   False\n",
            "56   False\n",
            "57   False\n",
            "58   False\n",
            "59   False\n",
            "60   False\n",
            "61   False\n",
            "62   False\n",
            "63   False\n",
            "64   False\n",
            "65   False\n",
            "66   False\n",
            "67   False\n",
            "68   False\n",
            "69   False\n",
            "70   False\n",
            "71   False\n",
            "72   False\n",
            "73   False\n",
            "74   False\n",
            "75   False\n",
            "76   False\n",
            "77   False\n",
            "78   False\n",
            "79   False\n",
            "80   False\n",
            "81   False\n",
            "82   False\n",
            "83   False\n",
            "84   False\n",
            "85   False\n",
            "86   False\n",
            "87   False\n",
            "88   False\n",
            "89   False\n",
            "Less than:\n",
            "0   True\n",
            "1   True\n",
            "2   True\n",
            "3   True\n",
            "4   True\n",
            "5   True\n",
            "6   True\n",
            "7   True\n",
            "8   True\n",
            "9   True\n",
            "10   True\n",
            "11   True\n",
            "12   True\n",
            "13   True\n",
            "14   True\n",
            "15   True\n",
            "16   True\n",
            "17   True\n",
            "18   True\n",
            "19   True\n",
            "20   True\n",
            "21   True\n",
            "22   True\n",
            "23   True\n",
            "24   True\n",
            "25   True\n",
            "26   True\n",
            "27   True\n",
            "28   True\n",
            "29   True\n",
            "30   True\n",
            "31   True\n",
            "32   True\n",
            "33   True\n",
            "34   True\n",
            "35   True\n",
            "36   True\n",
            "37   True\n",
            "38   True\n",
            "39   True\n",
            "40   True\n",
            "41   True\n",
            "42   True\n",
            "43   True\n",
            "44   True\n",
            "45   True\n",
            "46   True\n",
            "47   True\n",
            "48   True\n",
            "49   True\n",
            "50   True\n",
            "51   True\n",
            "52   True\n",
            "53   True\n",
            "54   True\n",
            "55   True\n",
            "56   True\n",
            "57   True\n",
            "58   True\n",
            "59   True\n",
            "60   True\n",
            "61   True\n",
            "62   True\n",
            "63   True\n",
            "64   True\n",
            "65   True\n",
            "66   True\n",
            "67   True\n",
            "68   True\n",
            "69   True\n",
            "70   True\n",
            "71   True\n",
            "72   True\n",
            "73   True\n",
            "74   True\n",
            "75   True\n",
            "76   True\n",
            "77   True\n",
            "78   True\n",
            "79   True\n",
            "80   True\n",
            "81   True\n",
            "82   True\n",
            "83   True\n",
            "84   True\n",
            "85   True\n",
            "86   True\n",
            "87   True\n",
            "88   True\n",
            "89   True\n"
          ],
          "name": "stdout"
        }
      ]
    },
    {
      "cell_type": "markdown",
      "metadata": {
        "id": "0iOca08zjihD",
        "colab_type": "text"
      },
      "source": [
        "Write a Pandas program to convert a NumPy array to a Pandas series.\n",
        "Sample NumPy array: d1 = [10, 20, 30, 40, 50... 1000]"
      ]
    },
    {
      "cell_type": "code",
      "metadata": {
        "id": "ZLyNJcrMjlIt",
        "colab_type": "code",
        "colab": {
          "base_uri": "https://localhost:8080/",
          "height": 399
        },
        "outputId": "b72111f1-e649-43a0-e0ab-6824cceab725"
      },
      "source": [
        "import numpy as np\n",
        "import pandas as pd\n",
        "l1=([i for i in range(1,1001) if i%10==0])\n",
        "a = np.array(l1)\n",
        "print(f\"NumPy array:\\n{a}\")\n",
        "print(f\"Converted Pandas series:\\n{pd.Series(a)}\")"
      ],
      "execution_count": null,
      "outputs": [
        {
          "output_type": "stream",
          "text": [
            "NumPy array:\n",
            "[  10   20   30   40   50   60   70   80   90  100  110  120  130  140\n",
            "  150  160  170  180  190  200  210  220  230  240  250  260  270  280\n",
            "  290  300  310  320  330  340  350  360  370  380  390  400  410  420\n",
            "  430  440  450  460  470  480  490  500  510  520  530  540  550  560\n",
            "  570  580  590  600  610  620  630  640  650  660  670  680  690  700\n",
            "  710  720  730  740  750  760  770  780  790  800  810  820  830  840\n",
            "  850  860  870  880  890  900  910  920  930  940  950  960  970  980\n",
            "  990 1000]\n",
            "Converted Pandas series:\n",
            "0       10\n",
            "1       20\n",
            "2       30\n",
            "3       40\n",
            "4       50\n",
            "      ... \n",
            "95     960\n",
            "96     970\n",
            "97     980\n",
            "98     990\n",
            "99    1000\n",
            "Length: 100, dtype: int64\n"
          ],
          "name": "stdout"
        }
      ]
    },
    {
      "cell_type": "markdown",
      "metadata": {
        "id": "I2FYsLPEjpXO",
        "colab_type": "text"
      },
      "source": [
        "Write a Pandas program to convert a given Series to an array.\n",
        "Sample series is ['100', '200', ‘300’,’400’,’500’,'python', '300.12', '400',’is’,’great’,’language’]\n"
      ]
    },
    {
      "cell_type": "code",
      "metadata": {
        "id": "Ha4XWHzrjsoi",
        "colab_type": "code",
        "colab": {
          "base_uri": "https://localhost:8080/",
          "height": 295
        },
        "outputId": "53d79129-2b5f-45d6-ed1e-cfb47e099109"
      },
      "source": [
        "import numpy as np\n",
        "s1 = pd.Series(['100', '200', '300','400','500','python', '300.12', '400','is','great','language'])\n",
        "print(f\"Original Data Series:\\n{s1}\")\n",
        "print(f\"Series to an array:\\n{np.array(s1.values.tolist())}\")"
      ],
      "execution_count": null,
      "outputs": [
        {
          "output_type": "stream",
          "text": [
            "Original Data Series:\n",
            "0          100\n",
            "1          200\n",
            "2          300\n",
            "3          400\n",
            "4          500\n",
            "5       python\n",
            "6       300.12\n",
            "7          400\n",
            "8           is\n",
            "9        great\n",
            "10    language\n",
            "dtype: object\n",
            "Series to an array:\n",
            "['100' '200' '300' '400' '500' 'python' '300.12' '400' 'is' 'great'\n",
            " 'language']\n"
          ],
          "name": "stdout"
        }
      ]
    },
    {
      "cell_type": "markdown",
      "metadata": {
        "id": "knicCIKmj8b7",
        "colab_type": "text"
      },
      "source": [
        "Write a Pandas program to sort a given Series.\n",
        "Sample series is ['100', '200', ‘300’,’400’,’500’,'python', '300.12', '400',’is’,’great’,’language’]"
      ]
    },
    {
      "cell_type": "code",
      "metadata": {
        "id": "pcR0BpV8kCdN",
        "colab_type": "code",
        "colab": {
          "base_uri": "https://localhost:8080/",
          "height": 451
        },
        "outputId": "2caa20d8-9c4e-4c58-ecb7-47325cd1e2a9"
      },
      "source": [
        "import pandas as pd\n",
        "s = pd.Series(['100', '200', '300','400','500','python', '300.12', '400','is','great','language'])\n",
        "print(f\"Original Data Series:\\n{s}\")\n",
        "print(pd.Series(s).sort_values())"
      ],
      "execution_count": null,
      "outputs": [
        {
          "output_type": "stream",
          "text": [
            "Original Data Series:\n",
            "0          100\n",
            "1          200\n",
            "2          300\n",
            "3          400\n",
            "4          500\n",
            "5       python\n",
            "6       300.12\n",
            "7          400\n",
            "8           is\n",
            "9        great\n",
            "10    language\n",
            "dtype: object\n",
            "0          100\n",
            "1          200\n",
            "2          300\n",
            "6       300.12\n",
            "3          400\n",
            "7          400\n",
            "4          500\n",
            "9        great\n",
            "8           is\n",
            "10    language\n",
            "5       python\n",
            "dtype: object\n"
          ],
          "name": "stdout"
        }
      ]
    },
    {
      "cell_type": "markdown",
      "metadata": {
        "id": "fWibtPhBkKM5",
        "colab_type": "text"
      },
      "source": [
        "Write a Pandas program to create a subsets of a given series based on value and condition.\n",
        "Sample NumPy array: d1 = [10, 20, 30, 40, 50... 1000]\n",
        "value and condtion : Subset 1 :numbers divisable by 7 Subset 2 : numbers divisable by 5"
      ]
    },
    {
      "cell_type": "code",
      "metadata": {
        "id": "T1j6_QcTkNc7",
        "colab_type": "code",
        "colab": {
          "base_uri": "https://localhost:8080/",
          "height": 728
        },
        "outputId": "c72170bf-c86f-4565-a59a-f06aa628399a"
      },
      "source": [
        "import pandas as pd\n",
        "s = pd.Series(([i for i in range(1,1001) if i%10==0]))\n",
        "print(f\"Original Data Series:\\n{s}\")\n",
        "print(f\"Subset of the above Data Series:\\n{s[s%7==0]}\\n{s[s%5==0]}\")\n"
      ],
      "execution_count": null,
      "outputs": [
        {
          "output_type": "stream",
          "text": [
            "Original Data Series:\n",
            "0       10\n",
            "1       20\n",
            "2       30\n",
            "3       40\n",
            "4       50\n",
            "      ... \n",
            "95     960\n",
            "96     970\n",
            "97     980\n",
            "98     990\n",
            "99    1000\n",
            "Length: 100, dtype: int64\n",
            "Subset of the above Data Series:\n",
            "6      70\n",
            "13    140\n",
            "20    210\n",
            "27    280\n",
            "34    350\n",
            "41    420\n",
            "48    490\n",
            "55    560\n",
            "62    630\n",
            "69    700\n",
            "76    770\n",
            "83    840\n",
            "90    910\n",
            "97    980\n",
            "dtype: int64\n",
            "0       10\n",
            "1       20\n",
            "2       30\n",
            "3       40\n",
            "4       50\n",
            "      ... \n",
            "95     960\n",
            "96     970\n",
            "97     980\n",
            "98     990\n",
            "99    1000\n",
            "Length: 100, dtype: int64\n"
          ],
          "name": "stdout"
        }
      ]
    },
    {
      "cell_type": "markdown",
      "metadata": {
        "id": "5DDkY0kEkTC2",
        "colab_type": "text"
      },
      "source": [
        "Write a Pandas program to create the mean and standard deviation, maximum and minimum of the data of a given Series of the prime numbers upto 1000"
      ]
    },
    {
      "cell_type": "code",
      "metadata": {
        "id": "CQF98IP2kWT-",
        "colab_type": "code",
        "colab": {
          "base_uri": "https://localhost:8080/",
          "height": 381
        },
        "outputId": "4e29a667-4e4a-46ae-f711-2f7f8d76df73"
      },
      "source": [
        "import pandas as pd\n",
        "l=[2]\n",
        "for v in range(3,1001):\n",
        "  for n in range(2, v): \n",
        "    if (v % n) == 0: \n",
        "      break\n",
        "    elif(n==v-1):\n",
        "      l.append(v)\n",
        "s = pd.Series(l)\n",
        "print(f\"Original Data Series:\\n{s}\")\n",
        "print(f\"Mean of the said Data Series:\\n{s.mean()}\")\n",
        "print(f\"Standard deviation of the said Data Series:\\n{s.std()}\")\n",
        "print(f\"Max of the said Data Series:\\n{s.max()}\")\n",
        "print(f\"Min of the said Data Series:\\n{s.min()}\")"
      ],
      "execution_count": null,
      "outputs": [
        {
          "output_type": "stream",
          "text": [
            "Original Data Series:\n",
            "0        2\n",
            "1        3\n",
            "2        5\n",
            "3        7\n",
            "4       11\n",
            "      ... \n",
            "163    971\n",
            "164    977\n",
            "165    983\n",
            "166    991\n",
            "167    997\n",
            "Length: 168, dtype: int64\n",
            "Mean of the said Data Series:\n",
            "453.13690476190476\n",
            "Standard deviation of the said Data Series:\n",
            "298.19241719366255\n",
            "Max of the said Data Series:\n",
            "997\n",
            "Min of the said Data Series:\n",
            "2\n"
          ],
          "name": "stdout"
        }
      ]
    },
    {
      "cell_type": "markdown",
      "metadata": {
        "id": "-wJGhJT9kbkU",
        "colab_type": "text"
      },
      "source": [
        "Write a Pandas program to get the elements of an array values into column-wise.\n",
        "Sample data: {‘X’:[All odd numbers but not divisable by 7 upto 1000], 'Y':[ All even numbers but not divisable by 5 upto 1000 ],'Z':[ All odd numbers but not divisable by 3 upto 1000]}"
      ]
    },
    {
      "cell_type": "code",
      "metadata": {
        "id": "HEpAta2zkfWA",
        "colab_type": "code",
        "colab": {
          "base_uri": "https://localhost:8080/",
          "height": 415
        },
        "outputId": "402e7fbd-70db-45c2-fdad-b6df797d54d7"
      },
      "source": [
        "import pandas as pd\n",
        "l1=([i for i in range(0,1001) if i%7!=0 and i%2!=0])\n",
        "l2=([i for i in range(0,1001) if i%2==0 and i%5!=0])\n",
        "l3=([i for i in range(0,1001) if i%2!=0 and i%3!=0])\n",
        "df = pd.DataFrame({'X':([i for i in range(0,1001) if i%7!=0 and i%2!=0])});\n",
        "df = pd.DataFrame({'Y':([i for i in range(0,1001) if i%2==0 and i%5!=0])});\n",
        "df = pd.DataFrame({'Z':([i for i in range(0,1001) if i%2!=0 and i%3!=0])});\n",
        "df"
      ],
      "execution_count": null,
      "outputs": [
        {
          "output_type": "execute_result",
          "data": {
            "text/html": [
              "<div>\n",
              "<style scoped>\n",
              "    .dataframe tbody tr th:only-of-type {\n",
              "        vertical-align: middle;\n",
              "    }\n",
              "\n",
              "    .dataframe tbody tr th {\n",
              "        vertical-align: top;\n",
              "    }\n",
              "\n",
              "    .dataframe thead th {\n",
              "        text-align: right;\n",
              "    }\n",
              "</style>\n",
              "<table border=\"1\" class=\"dataframe\">\n",
              "  <thead>\n",
              "    <tr style=\"text-align: right;\">\n",
              "      <th></th>\n",
              "      <th>Z</th>\n",
              "    </tr>\n",
              "  </thead>\n",
              "  <tbody>\n",
              "    <tr>\n",
              "      <th>0</th>\n",
              "      <td>1</td>\n",
              "    </tr>\n",
              "    <tr>\n",
              "      <th>1</th>\n",
              "      <td>5</td>\n",
              "    </tr>\n",
              "    <tr>\n",
              "      <th>2</th>\n",
              "      <td>7</td>\n",
              "    </tr>\n",
              "    <tr>\n",
              "      <th>3</th>\n",
              "      <td>11</td>\n",
              "    </tr>\n",
              "    <tr>\n",
              "      <th>4</th>\n",
              "      <td>13</td>\n",
              "    </tr>\n",
              "    <tr>\n",
              "      <th>...</th>\n",
              "      <td>...</td>\n",
              "    </tr>\n",
              "    <tr>\n",
              "      <th>328</th>\n",
              "      <td>985</td>\n",
              "    </tr>\n",
              "    <tr>\n",
              "      <th>329</th>\n",
              "      <td>989</td>\n",
              "    </tr>\n",
              "    <tr>\n",
              "      <th>330</th>\n",
              "      <td>991</td>\n",
              "    </tr>\n",
              "    <tr>\n",
              "      <th>331</th>\n",
              "      <td>995</td>\n",
              "    </tr>\n",
              "    <tr>\n",
              "      <th>332</th>\n",
              "      <td>997</td>\n",
              "    </tr>\n",
              "  </tbody>\n",
              "</table>\n",
              "<p>333 rows × 1 columns</p>\n",
              "</div>"
            ],
            "text/plain": [
              "       Z\n",
              "0      1\n",
              "1      5\n",
              "2      7\n",
              "3     11\n",
              "4     13\n",
              "..   ...\n",
              "328  985\n",
              "329  989\n",
              "330  991\n",
              "331  995\n",
              "332  997\n",
              "\n",
              "[333 rows x 1 columns]"
            ]
          },
          "metadata": {
            "tags": []
          },
          "execution_count": 10
        }
      ]
    },
    {
      "cell_type": "markdown",
      "metadata": {
        "id": "o0Oh-NCm4UAi",
        "colab_type": "text"
      },
      "source": [
        "Write a Pandas program to display the first 10 rows of the DataFrame for any particular three fields."
      ]
    },
    {
      "cell_type": "code",
      "metadata": {
        "id": "cxto0WN44Z6O",
        "colab_type": "code",
        "colab": {
          "base_uri": "https://localhost:8080/",
          "height": 208
        },
        "outputId": "6f833cd9-0aca-48c4-95df-abf131ac25b3"
      },
      "source": [
        "import pandas as pd\n",
        "df = pd.read_csv('movie.csv.txt')\n",
        "#Display the first 10 rows\n",
        "result = df.head(10)\n",
        "print(\"First 10 rows of the DataFrame:\")\n",
        "print(result)"
      ],
      "execution_count": 13,
      "outputs": [
        {
          "output_type": "stream",
          "text": [
            "First 10 rows of the DataFrame:\n",
            "       a\n",
            "0      s\n",
            "1      d\n",
            "2      s\n",
            "3      d\n",
            "4      s\n",
            "5      b\n",
            "6  ramya\n",
            "7   maha\n",
            "8    cse\n"
          ],
          "name": "stdout"
        }
      ]
    },
    {
      "cell_type": "markdown",
      "metadata": {
        "id": "o5W5jb4T55HQ",
        "colab_type": "text"
      },
      "source": [
        "Write a Pandas program to get the details of the seventh movie of the DataFrame for any particular three fields #(movie_metadata.csv file)."
      ]
    },
    {
      "cell_type": "code",
      "metadata": {
        "id": "WklKn4_T58XZ",
        "colab_type": "code",
        "colab": {
          "base_uri": "https://localhost:8080/",
          "height": 69
        },
        "outputId": "3d1e171c-5d4f-4642-b344-1bec1ee661ac"
      },
      "source": [
        "import pandas as pd\n",
        "df = pd.read_csv('movie.csv.txt')\n",
        "seventh_movie = df.iloc[6]\n",
        "print(\"Details of the seventh moviee:\")\n",
        "print(seventh_movie)"
      ],
      "execution_count": 17,
      "outputs": [
        {
          "output_type": "stream",
          "text": [
            "Details of the seventh moviee:\n",
            "a    ramya\n",
            "Name: 6, dtype: object\n"
          ],
          "name": "stdout"
        }
      ]
    },
    {
      "cell_type": "markdown",
      "metadata": {
        "id": "XBZdYN9q8vMC",
        "colab_type": "text"
      },
      "source": [
        "Write a Pandas program to sort the DataFrame based on title_year from dataset of movie_metadata.csv for any particular three field"
      ]
    },
    {
      "cell_type": "code",
      "metadata": {
        "id": "RsKrHRoe8yS6",
        "colab_type": "code",
        "colab": {
          "base_uri": "https://localhost:8080/",
          "height": 355
        },
        "outputId": "76d526d4-d506-4e3c-9cf7-2ac85e4d42be"
      },
      "source": [
        "import pandas as pd \n",
        "data=pd.read_csv(\"movies.csv\") \n",
        "data.sort_values([\"Year\", \"Name\"], axis=0, \n",
        "                 ascending=True, inplace=True)  \n",
        "data"
      ],
      "execution_count": 18,
      "outputs": [
        {
          "output_type": "execute_result",
          "data": {
            "text/html": [
              "<div>\n",
              "<style scoped>\n",
              "    .dataframe tbody tr th:only-of-type {\n",
              "        vertical-align: middle;\n",
              "    }\n",
              "\n",
              "    .dataframe tbody tr th {\n",
              "        vertical-align: top;\n",
              "    }\n",
              "\n",
              "    .dataframe thead th {\n",
              "        text-align: right;\n",
              "    }\n",
              "</style>\n",
              "<table border=\"1\" class=\"dataframe\">\n",
              "  <thead>\n",
              "    <tr style=\"text-align: right;\">\n",
              "      <th></th>\n",
              "      <th>Name</th>\n",
              "      <th>Year</th>\n",
              "      <th>Unnamed: 2</th>\n",
              "      <th>Language</th>\n",
              "    </tr>\n",
              "  </thead>\n",
              "  <tbody>\n",
              "    <tr>\n",
              "      <th>7</th>\n",
              "      <td>rajkimar</td>\n",
              "      <td>2001</td>\n",
              "      <td>NaN</td>\n",
              "      <td>kannada</td>\n",
              "    </tr>\n",
              "    <tr>\n",
              "      <th>6</th>\n",
              "      <td>kgf</td>\n",
              "      <td>2005</td>\n",
              "      <td>NaN</td>\n",
              "      <td>kannada</td>\n",
              "    </tr>\n",
              "    <tr>\n",
              "      <th>5</th>\n",
              "      <td>googly</td>\n",
              "      <td>2006</td>\n",
              "      <td>NaN</td>\n",
              "      <td>kannada</td>\n",
              "    </tr>\n",
              "    <tr>\n",
              "      <th>4</th>\n",
              "      <td>incredibles</td>\n",
              "      <td>2007</td>\n",
              "      <td>NaN</td>\n",
              "      <td>english</td>\n",
              "    </tr>\n",
              "    <tr>\n",
              "      <th>2</th>\n",
              "      <td>barfi</td>\n",
              "      <td>2008</td>\n",
              "      <td>NaN</td>\n",
              "      <td>hindhi</td>\n",
              "    </tr>\n",
              "    <tr>\n",
              "      <th>3</th>\n",
              "      <td>fidaa</td>\n",
              "      <td>2009</td>\n",
              "      <td>NaN</td>\n",
              "      <td>telugu</td>\n",
              "    </tr>\n",
              "    <tr>\n",
              "      <th>0</th>\n",
              "      <td>bahubali</td>\n",
              "      <td>2010</td>\n",
              "      <td>NaN</td>\n",
              "      <td>telugu</td>\n",
              "    </tr>\n",
              "    <tr>\n",
              "      <th>9</th>\n",
              "      <td>jeeva</td>\n",
              "      <td>2012</td>\n",
              "      <td>NaN</td>\n",
              "      <td>malayalam</td>\n",
              "    </tr>\n",
              "    <tr>\n",
              "      <th>8</th>\n",
              "      <td>abhi</td>\n",
              "      <td>2020</td>\n",
              "      <td>NaN</td>\n",
              "      <td>gujarthi</td>\n",
              "    </tr>\n",
              "    <tr>\n",
              "      <th>1</th>\n",
              "      <td>finding nemo</td>\n",
              "      <td>2020</td>\n",
              "      <td>NaN</td>\n",
              "      <td>english</td>\n",
              "    </tr>\n",
              "  </tbody>\n",
              "</table>\n",
              "</div>"
            ],
            "text/plain": [
              "           Name  Year  Unnamed: 2   Language\n",
              "7      rajkimar  2001         NaN    kannada\n",
              "6           kgf  2005         NaN    kannada\n",
              "5        googly  2006         NaN    kannada\n",
              "4   incredibles  2007         NaN    english\n",
              "2         barfi  2008         NaN     hindhi\n",
              "3         fidaa  2009         NaN     telugu\n",
              "0      bahubali  2010         NaN     telugu\n",
              "9         jeeva  2012         NaN  malayalam\n",
              "8          abhi  2020         NaN   gujarthi\n",
              "1  finding nemo  2020         NaN    english"
            ]
          },
          "metadata": {
            "tags": []
          },
          "execution_count": 18
        }
      ]
    },
    {
      "cell_type": "markdown",
      "metadata": {
        "id": "wLpfGsqZ84hL",
        "colab_type": "text"
      },
      "source": [
        "Write a Pandas program to sort the DataFrame based on country and language from dataset of movie_metadata.csv"
      ]
    },
    {
      "cell_type": "code",
      "metadata": {
        "id": "PKD1WDqS89Kn",
        "colab_type": "code",
        "colab": {
          "base_uri": "https://localhost:8080/",
          "height": 355
        },
        "outputId": "99b71cfb-0bda-46a4-df72-070315522a72"
      },
      "source": [
        "import pandas as pd \n",
        "data=pd.read_csv(\"movies.csv\") \n",
        "data.sort_values([\"country\", \"Language\"], axis=0, \n",
        "                 ascending=True, inplace=True)  \n",
        "data"
      ],
      "execution_count": 27,
      "outputs": [
        {
          "output_type": "execute_result",
          "data": {
            "text/html": [
              "<div>\n",
              "<style scoped>\n",
              "    .dataframe tbody tr th:only-of-type {\n",
              "        vertical-align: middle;\n",
              "    }\n",
              "\n",
              "    .dataframe tbody tr th {\n",
              "        vertical-align: top;\n",
              "    }\n",
              "\n",
              "    .dataframe thead th {\n",
              "        text-align: right;\n",
              "    }\n",
              "</style>\n",
              "<table border=\"1\" class=\"dataframe\">\n",
              "  <thead>\n",
              "    <tr style=\"text-align: right;\">\n",
              "      <th></th>\n",
              "      <th>Name</th>\n",
              "      <th>Year</th>\n",
              "      <th>country</th>\n",
              "      <th>Language</th>\n",
              "    </tr>\n",
              "  </thead>\n",
              "  <tbody>\n",
              "    <tr>\n",
              "      <th>4</th>\n",
              "      <td>malla</td>\n",
              "      <td>2007</td>\n",
              "      <td>algeris</td>\n",
              "      <td>tulu</td>\n",
              "    </tr>\n",
              "    <tr>\n",
              "      <th>1</th>\n",
              "      <td>raja</td>\n",
              "      <td>2020</td>\n",
              "      <td>angola</td>\n",
              "      <td>english</td>\n",
              "    </tr>\n",
              "    <tr>\n",
              "      <th>3</th>\n",
              "      <td>kalla</td>\n",
              "      <td>2009</td>\n",
              "      <td>australia</td>\n",
              "      <td>telugu</td>\n",
              "    </tr>\n",
              "    <tr>\n",
              "      <th>2</th>\n",
              "      <td>rani</td>\n",
              "      <td>2008</td>\n",
              "      <td>bangladesh</td>\n",
              "      <td>hindhi</td>\n",
              "    </tr>\n",
              "    <tr>\n",
              "      <th>5</th>\n",
              "      <td>googly</td>\n",
              "      <td>2006</td>\n",
              "      <td>cuba</td>\n",
              "      <td>marati</td>\n",
              "    </tr>\n",
              "    <tr>\n",
              "      <th>6</th>\n",
              "      <td>kgf</td>\n",
              "      <td>2005</td>\n",
              "      <td>cyprus</td>\n",
              "      <td>bengali</td>\n",
              "    </tr>\n",
              "    <tr>\n",
              "      <th>8</th>\n",
              "      <td>abhi</td>\n",
              "      <td>2020</td>\n",
              "      <td>dominica</td>\n",
              "      <td>gujarthi</td>\n",
              "    </tr>\n",
              "    <tr>\n",
              "      <th>7</th>\n",
              "      <td>rajkimar</td>\n",
              "      <td>2001</td>\n",
              "      <td>egypt</td>\n",
              "      <td>kannada</td>\n",
              "    </tr>\n",
              "    <tr>\n",
              "      <th>9</th>\n",
              "      <td>jeeva</td>\n",
              "      <td>2012</td>\n",
              "      <td>france</td>\n",
              "      <td>onum</td>\n",
              "    </tr>\n",
              "    <tr>\n",
              "      <th>0</th>\n",
              "      <td>gaja</td>\n",
              "      <td>2010</td>\n",
              "      <td>india</td>\n",
              "      <td>kannada</td>\n",
              "    </tr>\n",
              "  </tbody>\n",
              "</table>\n",
              "</div>"
            ],
            "text/plain": [
              "       Name  Year     country  Language\n",
              "4     malla  2007     algeris      tulu\n",
              "1      raja  2020      angola   english\n",
              "3     kalla  2009   australia    telugu\n",
              "2      rani  2008  bangladesh    hindhi\n",
              "5    googly  2006        cuba    marati\n",
              "6       kgf  2005      cyprus   bengali\n",
              "8      abhi  2020    dominica  gujarthi\n",
              "7  rajkimar  2001       egypt   kannada\n",
              "9     jeeva  2012      france      onum\n",
              "0      gaja  2010       india   kannada"
            ]
          },
          "metadata": {
            "tags": []
          },
          "execution_count": 27
        }
      ]
    },
    {
      "cell_type": "code",
      "metadata": {
        "id": "U4SB-ByN_vD0",
        "colab_type": "code",
        "colab": {}
      },
      "source": [
        ""
      ],
      "execution_count": null,
      "outputs": []
    },
    {
      "cell_type": "markdown",
      "metadata": {
        "id": "4SO81LgC_361",
        "colab_type": "text"
      },
      "source": [
        "\n",
        "Write a NumPy program to generate 8 random integers between 100 and 300\n",
        "\n"
      ]
    },
    {
      "cell_type": "code",
      "metadata": {
        "id": "bvIC6cEy_9PB",
        "colab_type": "code",
        "colab": {
          "base_uri": "https://localhost:8080/",
          "height": 35
        },
        "outputId": "e178079d-5340-4c36-f581-70e5968c6a4c"
      },
      "source": [
        "import numpy as np\n",
        "x = np.random.randint(low=100, high=300, size=8)\n",
        "print(x)"
      ],
      "execution_count": 28,
      "outputs": [
        {
          "output_type": "stream",
          "text": [
            "[253 181 178 273 216 200 247 252]\n"
          ],
          "name": "stdout"
        }
      ]
    },
    {
      "cell_type": "markdown",
      "metadata": {
        "id": "ZQD9DGfyACo6",
        "colab_type": "text"
      },
      "source": [
        "Write a NumPy program to create a random integer nos of size 20 and sort it."
      ]
    },
    {
      "cell_type": "code",
      "metadata": {
        "id": "F_5PU5IPAIvj",
        "colab_type": "code",
        "colab": {
          "base_uri": "https://localhost:8080/",
          "height": 191
        },
        "outputId": "cf568c5e-6b22-47be-a8e1-3061b6897350"
      },
      "source": [
        "import numpy as np\n",
        "x = np.random.random(20)\n",
        "print(\"Original array:\")\n",
        "print(x)\n",
        "x.sort()\n",
        "print(\"Sorted array:\")\n",
        "print(x)"
      ],
      "execution_count": 29,
      "outputs": [
        {
          "output_type": "stream",
          "text": [
            "Original array:\n",
            "[0.52444704 0.70832891 0.58103302 0.0475159  0.16136644 0.43242822\n",
            " 0.43404289 0.00477362 0.36058125 0.30079629 0.31733971 0.27675342\n",
            " 0.343205   0.3667113  0.50239289 0.50434655 0.6202044  0.12439028\n",
            " 0.42743299 0.83968381]\n",
            "Sorted array:\n",
            "[0.00477362 0.0475159  0.12439028 0.16136644 0.27675342 0.30079629\n",
            " 0.31733971 0.343205   0.36058125 0.3667113  0.42743299 0.43242822\n",
            " 0.43404289 0.50239289 0.50434655 0.52444704 0.58103302 0.6202044\n",
            " 0.70832891 0.83968381]\n"
          ],
          "name": "stdout"
        }
      ]
    },
    {
      "cell_type": "markdown",
      "metadata": {
        "id": "S2nxQjIEANK1",
        "colab_type": "text"
      },
      "source": [
        "Write a NumPy program to create a 10x10 array with random values and find the minimum and maximum values."
      ]
    },
    {
      "cell_type": "code",
      "metadata": {
        "id": "HjL5FIkoAQrq",
        "colab_type": "code",
        "colab": {
          "base_uri": "https://localhost:8080/",
          "height": 416
        },
        "outputId": "9d76420a-b76e-4ed7-c346-598909c37095"
      },
      "source": [
        "import numpy as np\n",
        "x = np.random.random((10,10))\n",
        "print(\"Original Array:\")\n",
        "print(x) \n",
        "xmin, xmax = x.min(), x.max()\n",
        "print(\"Minimum and Maximum Values:\")\n",
        "print(xmin, xmax)"
      ],
      "execution_count": 30,
      "outputs": [
        {
          "output_type": "stream",
          "text": [
            "Original Array:\n",
            "[[0.99164712 0.65920602 0.25544066 0.02945342 0.19142209 0.07379265\n",
            "  0.02123736 0.64045368 0.2193505  0.66752246]\n",
            " [0.6526458  0.61417415 0.70188259 0.43765601 0.90520729 0.60654967\n",
            "  0.99069938 0.71605484 0.66629534 0.70002238]\n",
            " [0.81908574 0.54498791 0.75860909 0.45620576 0.41432684 0.47241951\n",
            "  0.09391875 0.03578339 0.67674162 0.97578936]\n",
            " [0.00902741 0.87882841 0.64426297 0.02305119 0.6750231  0.27778708\n",
            "  0.93840155 0.17596261 0.03072827 0.38113847]\n",
            " [0.25973701 0.9695734  0.46320151 0.75730851 0.73201894 0.8047369\n",
            "  0.3028886  0.49770974 0.79254657 0.23252858]\n",
            " [0.62274457 0.14587239 0.03178828 0.62839417 0.48264851 0.67283624\n",
            "  0.49850339 0.29797087 0.07318519 0.70950383]\n",
            " [0.00453829 0.76842627 0.63294887 0.78294993 0.22461388 0.18912814\n",
            "  0.33763503 0.72652768 0.71097012 0.72261084]\n",
            " [0.24390901 0.2804798  0.7207551  0.84401901 0.7626824  0.81448995\n",
            "  0.6138131  0.33986413 0.54396286 0.5610449 ]\n",
            " [0.61038255 0.93238668 0.30553455 0.83901613 0.19234623 0.35031982\n",
            "  0.15585154 0.63197934 0.34425791 0.96824668]\n",
            " [0.33046266 0.17534552 0.09354226 0.36259561 0.51308476 0.88980956\n",
            "  0.67591258 0.97890209 0.11534456 0.3622743 ]]\n",
            "Minimum and Maximum Values:\n",
            "0.004538289962452868 0.9916471222943087\n"
          ],
          "name": "stdout"
        }
      ]
    },
    {
      "cell_type": "markdown",
      "metadata": {
        "id": "IEisAH7nAVZP",
        "colab_type": "text"
      },
      "source": [
        "Write a NumPy program to create a random 4x4 array and extract the 2nd and 3rd rows of the array and store them into a variable."
      ]
    },
    {
      "cell_type": "code",
      "metadata": {
        "id": "Dosdk2QcAYZE",
        "colab_type": "code",
        "colab": {
          "base_uri": "https://localhost:8080/",
          "height": 156
        },
        "outputId": "d71a7f53-ad11-4ad4-db42-8405bb8f8501"
      },
      "source": [
        "import numpy as np\n",
        "x = np.random.rand(4, 4)\n",
        "print(\"Original array: \")\n",
        "print(x)\n",
        "y= x[:2, :3]\n",
        "print(\"Second and third rows of the above array:\")\n",
        "print(y)"
      ],
      "execution_count": 31,
      "outputs": [
        {
          "output_type": "stream",
          "text": [
            "Original array: \n",
            "[[0.02436069 0.80619295 0.18536866 0.59112536]\n",
            " [0.56539564 0.82360138 0.24053498 0.02728507]\n",
            " [0.21963413 0.57178582 0.72508182 0.31642096]\n",
            " [0.3643751  0.99989464 0.48120674 0.77860013]]\n",
            "Second and third rows of the above array:\n",
            "[[0.02436069 0.80619295 0.18536866]\n",
            " [0.56539564 0.82360138 0.24053498]]\n"
          ],
          "name": "stdout"
        }
      ]
    },
    {
      "cell_type": "markdown",
      "metadata": {
        "id": "KzlTQC3lA2bu",
        "colab_type": "text"
      },
      "source": [
        "Write a Pandas program to get the details of the movies record number divisable by 5 of the DataFrame #(movie_metadata.csv file)."
      ]
    },
    {
      "cell_type": "code",
      "metadata": {
        "id": "taO2sQfRA9kE",
        "colab_type": "code",
        "colab": {
          "base_uri": "https://localhost:8080/",
          "height": 191
        },
        "outputId": "99dbdc2b-50df-4597-f8bc-8f1c399b2fbb"
      },
      "source": [
        "import pandas as pd\n",
        "import numpy as np\n",
        "df = pd.read_csv('moviees.csv')\n",
        "small_df = df[['rating','budget','year']]\n",
        "for i in range(1,len(df)+1):\n",
        "  if i%5==0:\n",
        "    print(f\"{small_df.iloc[i]}\\n\")"
      ],
      "execution_count": 34,
      "outputs": [
        {
          "output_type": "stream",
          "text": [
            "rating       3\n",
            "budget    80cr\n",
            "year      2019\n",
            "Name: 5, dtype: object\n",
            "\n",
            "rating        5\n",
            "budget    50cr \n",
            "year       2010\n",
            "Name: 10, dtype: object\n",
            "\n"
          ],
          "name": "stdout"
        }
      ]
    }
  ]
}